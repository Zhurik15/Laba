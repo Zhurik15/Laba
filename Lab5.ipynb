{
 "cells": [
  {
   "cell_type": "markdown",
   "metadata": {
    "id": "WPvB9TcMmKA6"
   },
   "source": [
    "# Лабораторная работа №5\n",
    "# Рекурсия. Фракталы."
   ]
  },
  {
   "cell_type": "markdown",
   "metadata": {
    "id": "96Gi_LEvmSVH"
   },
   "source": [
    "## Выполнил студент группы БСТ2003 Журавлёв С.А.\n",
    "***"
   ]
  },
  {
   "cell_type": "markdown",
   "metadata": {
    "id": "4clYOyb0mbEv"
   },
   "source": [
    "### Задание:\n",
    "Реализовать генерацию заданного типа фрактала с применением рекурсивных функций.\n",
    "\n",
    "\n",
    "Добавить возможность задания глубины фрактала. \n",
    "\n",
    "\n",
    "Оценить глубину рекурсии. \n",
    "\n",
    "\n",
    "Построить таблицу зависимости времени построения от глубины фрактала."
   ]
  },
  {
   "cell_type": "markdown",
   "metadata": {
    "id": "wDXHbUmMmhRL"
   },
   "source": [
    "### Варианты заданий:\n",
    "\n",
    "Вариант | Задание\n",
    ":-------- |:-----\n",
    "1, 7, 13, 19, 25 | Кривая Коха\n",
    "2, 8, 14, 20, 26 | Кривая Гильберта\n",
    "3, 9,15,21,27 | Кривая Серпинского\n",
    "4, 10, 16, 22, 28 | Салфетка Серпинского\n",
    "5, 11, 17, 23, 29| Ковер Серпинского\n",
    "6, 12, 18, 24, 30 | Дерево Пифагора \n"
   ]
  },
  {
   "cell_type": "markdown",
   "metadata": {
    "id": "Wggfn8l7nG72"
   },
   "source": [
    "### Выполнение:"
   ]
  },
  {
   "cell_type": "code",
   "execution_count": null,
   "metadata": {
    "id": "681a95mZnOSa"
   },
   "outputs": [],
   "source": [
    "import time, turtle\n",
    "\n",
    "cnt = 0\n",
    "\n",
    "window=turtle.Screen()\n",
    "\n",
    "alex=turtle.Turtle()\n",
    "alex.speed(0)\n",
    "\n",
    "def sierpinski(a,t,size):\n",
    "    global cnt\n",
    "\n",
    "    if a==0:\n",
    "        for i in range(3):\n",
    "            t.forward(size)\n",
    "            t.left(120)\n",
    "\n",
    "    else:\n",
    "       sierpinski(a-1,t,size/2)\n",
    "       t.forward(size/2)\n",
    "       sierpinski(a-1,t,size/2)\n",
    "       t.forward(size/2)\n",
    "       t.left(120)\n",
    "       t.forward(size/2)\n",
    "       sierpinski(a-1,t,size/2)\n",
    "       t.forward(size/2)\n",
    "       t.left(120)\n",
    "       t.forward(size)\n",
    "       t.left(120)\n",
    "\n",
    "    if a==0:\n",
    "        cnt+=1\n",
    "\n",
    "\n",
    "\n",
    "prev_t = time.time()\n",
    "sierpinski(5,alex,300)\n",
    "cur_t = time.time() - prev_t\n",
    "print(f\"Глубина рекурсии: {cnt}\\nВремя выполнения: {cur_t}\")\n",
    "\n",
    "window.mainloop()"
   ]
  },
  {
   "cell_type": "markdown",
   "metadata": {
    "id": "diOb-K7LnO5a"
   },
   "source": [
    "Глубина рекурсии: 243\n",
    "Время выполнения: 37.69695520401001"
   ]
  },
  {
   "cell_type": "code",
   "execution_count": null,
   "metadata": {},
   "outputs": [],
   "source": []
  }
 ],
 "metadata": {
  "colab": {
   "collapsed_sections": [],
   "name": "Lab5.ipynb",
   "provenance": []
  },
  "kernelspec": {
   "display_name": "Python 3 (ipykernel)",
   "language": "python",
   "name": "python3"
  },
  "language_info": {
   "codemirror_mode": {
    "name": "ipython",
    "version": 3
   },
   "file_extension": ".py",
   "mimetype": "text/x-python",
   "name": "python",
   "nbconvert_exporter": "python",
   "pygments_lexer": "ipython3",
   "version": "3.10.4"
  }
 },
 "nbformat": 4,
 "nbformat_minor": 1
}
