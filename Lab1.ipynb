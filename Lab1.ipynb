{
 "cells": [
  {
   "cell_type": "markdown",
   "id": "acca9669",
   "metadata": {},
   "source": [
    "# Лабораторная работа №1 \n",
    "\n",
    "### Выполнил студент группы БСТ2003 Журавлёв Сергей Алексеевич\n",
    "### Задание №1 "
   ]
  },
  {
   "cell_type": "markdown",
   "id": "81c201e2",
   "metadata": {},
   "source": [
    "Описание условия задания "
   ]
  },
  {
   "cell_type": "code",
   "execution_count": 3,
   "id": "5b0d65ed",
   "metadata": {},
   "outputs": [
    {
     "name": "stdout",
     "output_type": "stream",
     "text": [
      "Hello, world!\n"
     ]
    }
   ],
   "source": [
    "print (\"Hello, world!\")"
   ]
  },
  {
   "cell_type": "markdown",
   "id": "4c8f7c7c",
   "metadata": {},
   "source": [
    "### Импорт библиотек"
   ]
  },
  {
   "cell_type": "code",
   "execution_count": 1,
   "id": "dd4c2cc0",
   "metadata": {},
   "outputs": [
    {
     "name": "stdout",
     "output_type": "stream",
     "text": [
      "Requirement already satisfied: pandas in c:\\users\\huawei\\appdata\\local\\programs\\python\\python310\\lib\\site-packages (1.4.1)\n",
      "Requirement already satisfied: python-dateutil>=2.8.1 in c:\\users\\huawei\\appdata\\local\\programs\\python\\python310\\lib\\site-packages (from pandas) (2.8.2)\n",
      "Requirement already satisfied: pytz>=2020.1 in c:\\users\\huawei\\appdata\\local\\programs\\python\\python310\\lib\\site-packages (from pandas) (2021.3)\n",
      "Requirement already satisfied: numpy>=1.21.0 in c:\\users\\huawei\\appdata\\local\\programs\\python\\python310\\lib\\site-packages (from pandas) (1.22.2)\n",
      "Requirement already satisfied: six>=1.5 in c:\\users\\huawei\\appdata\\local\\programs\\python\\python310\\lib\\site-packages (from python-dateutil>=2.8.1->pandas) (1.16.0)\n",
      "Note: you may need to restart the kernel to use updated packages.\n"
     ]
    },
    {
     "name": "stderr",
     "output_type": "stream",
     "text": [
      "WARNING: You are using pip version 21.2.4; however, version 22.0.3 is available.\n",
      "You should consider upgrading via the 'C:\\Users\\HUAWEI\\AppData\\Local\\Programs\\Python\\Python310\\python.exe -m pip install --upgrade pip' command.\n"
     ]
    }
   ],
   "source": [
    "%pip install pandas"
   ]
  },
  {
   "cell_type": "code",
   "execution_count": 13,
   "id": "cc5861b2",
   "metadata": {},
   "outputs": [],
   "source": [
    "from random import randint\n",
    "import time\n",
    "import copy\n",
    "import math\n",
    "import pandas as pd"
   ]
  },
  {
   "cell_type": "markdown",
   "id": "9658ece5",
   "metadata": {},
   "source": [
    "### Задание №2"
   ]
  },
  {
   "cell_type": "markdown",
   "id": "f1dc3f7f",
   "metadata": {},
   "source": [
    "Написать генератор случайных матриц(многомерных), который принимает опциональные параметры m, n, min_limit, max_limit, где m и n указывают размер матрицы, а min_lim и max_lim - минимальное и максимальное значение для генерируемого числа . По умолчанию при отсутствии параметров принимать следующие значения: m = 50 n = 50 min_limit = -250 max_limit = 1000 + (номер своего варианта)"
   ]
  },
  {
   "cell_type": "markdown",
   "id": "c6ce8212",
   "metadata": {},
   "source": [
    "### Создание матрицы"
   ]
  },
  {
   "cell_type": "code",
   "execution_count": 14,
   "id": "6c2f0e40",
   "metadata": {},
   "outputs": [],
   "source": [
    "def M_create(Q_ans):\n",
    "\n",
    "    if Q_ans == \"Да\" or Q_ans == \"да\":\n",
    "        m = int(input(\"Введите количество строк: \"))\n",
    "        n = int(input(\"Введите количество столбцов: \"))\n",
    "        min_limit = int(input(\"Укажите начальный диапозон чисел для генерации: \"))\n",
    "        max_limit = int(input(\"Укажите конечный диапозон чисел для генерации: \"))\n",
    "        matrix = [[randint(min_limit, max_limit+1) for j in range(n)] for i in range(m)]\n",
    "        return matrix\n",
    "    elif Q_ans == \"Нет\" or Q_ans == \"нет\":\n",
    "        m = 50\n",
    "        n = 50\n",
    "        min_limit = -250\n",
    "        max_limit = 1000 + 15\n",
    "        matrix = [[randint(min_limit, max_limit+1) for j in range(n)] for i in range(m)]\n",
    "        return matrix\n",
    "    else:\n",
    "        print(\"Пожалуйста, ответьте на вопрос строго Да или Нет\")"
   ]
  },
  {
   "cell_type": "markdown",
   "id": "761562d0",
   "metadata": {},
   "source": [
    "### Задание №3"
   ]
  },
  {
   "cell_type": "markdown",
   "id": "03f545a5",
   "metadata": {},
   "source": [
    "Реализовать методы сортировки строк числовой матрицы в соответствии с заданием. Оценить время работы каждого алгоритма сортировки и сравнить его со временем стандартной функции сортировки. Испытания проводить на сгенерированных матрицах. Методы:Выбором,Вставкой,Обменом,Шелла,Турнирная,Быстрая сортировка,Пирамидальная"
   ]
  },
  {
   "cell_type": "markdown",
   "id": "55b623da",
   "metadata": {},
   "source": [
    "### Перечисление функций:\n",
    "\n",
    "### Сортировка выбором"
   ]
  },
  {
   "cell_type": "code",
   "execution_count": 15,
   "id": "6e72e715",
   "metadata": {},
   "outputs": [],
   "source": [
    "def Selection_sort(matrix):\n",
    "    for row in range(len(matrix)):\n",
    "        for col in range(len(matrix[0])-1):\n",
    "            for colS in range(col+1, len(matrix[0])):\n",
    "                if matrix[row][colS] < matrix[row][col]:\n",
    "                    matrix[row][col], matrix[row][colS] = matrix[row][colS], matrix[row][col]\n",
    "    return matrix"
   ]
  },
  {
   "cell_type": "markdown",
   "id": "3ccdba11",
   "metadata": {},
   "source": [
    "### Сортировка вcтавкой"
   ]
  },
  {
   "cell_type": "code",
   "execution_count": 16,
   "id": "6de339cb",
   "metadata": {},
   "outputs": [],
   "source": [
    "def insertion_sort(matrix):\n",
    "    for row in range(len(matrix)):\n",
    "        for col in range (1,len(matrix[0])):\n",
    "            key = matrix[row][col]\n",
    "            j = col-1\n",
    "            while j >=0 and key < matrix[row][j]:\n",
    "                matrix[row][j+1] = matrix[row][j]\n",
    "                j -= 1\n",
    "            matrix[row][j+1] = key\n",
    "    return matrix"
   ]
  },
  {
   "cell_type": "markdown",
   "id": "b3a24487",
   "metadata": {},
   "source": [
    "### Сортировка обменом "
   ]
  },
  {
   "cell_type": "code",
   "execution_count": 17,
   "id": "cf8ab6af",
   "metadata": {},
   "outputs": [],
   "source": [
    "def bubble_sort(matrix):\n",
    "    for row in range(len(matrix)):\n",
    "        for col in range(len(matrix[0])-1):\n",
    "            for j in range(len(matrix[0])-col-1):\n",
    "                if matrix[row][j] > matrix[row][j+1]:\n",
    "                    matrix[row][j], matrix[row][j+1] = matrix[row][j+1], matrix[row][j]\n",
    "    return matrix"
   ]
  },
  {
   "cell_type": "markdown",
   "id": "bd383831",
   "metadata": {},
   "source": [
    "### Сортировка Шелла"
   ]
  },
  {
   "cell_type": "code",
   "execution_count": 18,
   "id": "793564c6",
   "metadata": {},
   "outputs": [],
   "source": [
    "def shellSort(matrix):\n",
    "    n = len(matrix[0])\n",
    "    k = int(math.log2(n))\n",
    "    interval = int(2**k -1)\n",
    "    while interval > 0:\n",
    "        for row in range(len(matrix)):\n",
    "            for col in range(interval, n):\n",
    "                temp = matrix[row][col]\n",
    "                j = col\n",
    "                while j >= interval and matrix[row][j - interval] > temp:\n",
    "                    matrix[row][j] = matrix[row][j - interval]\n",
    "                    j -= interval\n",
    "                matrix[row][j] = temp\n",
    "        k -= 1\n",
    "        interval = int(2**k -1)\n",
    "    return matrix"
   ]
  },
  {
   "cell_type": "markdown",
   "id": "9e440c49",
   "metadata": {},
   "source": [
    "### Турнирная Сортировка "
   ]
  },
  {
   "cell_type": "code",
   "execution_count": null,
   "id": "cf41df26",
   "metadata": {},
   "outputs": [],
   "source": [
    "def tournamentSort(matrix):\n",
    "    tree = [None] * 2 * (len(matrix) + len(matrix) % 2)\n",
    "    index = len(tree) - len(matrix) - len(matrix) % 2\n",
    "\n",
    "    for i, v in enumerate(matrix):\n",
    "        tree[index + i] = (i, v)\n",
    "\n",
    "    for j in range(len(matrix)):\n",
    "        n = len(matrix)\n",
    "        index = len(tree) - len(matrix) - len(matrix) % 2\n",
    "        while index > -1:\n",
    "            n = (n + 1) // 2\n",
    "            for i in range(n):\n",
    "                i = max(index + i * 2, 1)\n",
    "                if tree[i] != None and tree[i + 1] != None:\n",
    "                    if tree[i][1] < tree[i + 1][1]:\n",
    "                        tree[i // 2] = tree[i]\n",
    "                    else:\n",
    "                        tree[i // 2] = tree[i + 1]\n",
    "                else:\n",
    "                    tree[i // 2] = tree[i] if tree[i] != None else tree[i + 1]\n",
    "            index -= n\n",
    "\n",
    "        index, x = tree[0]\n",
    "        matrix[j] = x\n",
    "        tree[len(tree) - len(matrix) - len(matrix) % 2 + index] = None\n",
    "        def TournamentSort(matrix):\n",
    "    for i in range(len(matrix)):\n",
    "        tournamentSort(matrix[i])\n",
    "    return matrix"
   ]
  },
  {
   "cell_type": "markdown",
   "id": "cea46537",
   "metadata": {},
   "source": [
    "### Пирамидная сортировка"
   ]
  },
  {
   "cell_type": "code",
   "execution_count": 25,
   "id": "2969c78e",
   "metadata": {},
   "outputs": [],
   "source": [
    "def heapify(matrix, n, i, row):\n",
    "    largest = i\n",
    "    l = 2 * i + 1\n",
    "    r = 2 * i + 2\n",
    "    \n",
    "    if l < n and matrix[row][i] < matrix[row][l]:\n",
    "        largest = l\n",
    "    if r < n and matrix[row][largest] < matrix[row][r]:\n",
    "        largest = r\n",
    "    \n",
    "    if largest != i:\n",
    "        matrix[row][i], matrix[row][largest] = matrix[row][largest], matrix[row][i]\n",
    "        heapify(matrix, n, largest, row)\n",
    "def heapSort(matrix):\n",
    "    for row in range(len(matrix)):\n",
    "        n = len(matrix[0])\n",
    "        for i in range(n//2, -1, -1):\n",
    "            heapify(matrix, n, i, row)\n",
    "        for i in range(n-1, 0, -1):\n",
    "            matrix[row][i], matrix[row][0] = matrix[row][0], matrix[row][i]\n",
    "            heapify(matrix, i, 0, row)\n",
    "    return matrix"
   ]
  },
  {
   "cell_type": "markdown",
   "id": "479bf2da",
   "metadata": {},
   "source": [
    "### Быстрая сортировка"
   ]
  },
  {
   "cell_type": "code",
   "execution_count": 26,
   "id": "4c2b4353",
   "metadata": {},
   "outputs": [],
   "source": [
    "def partition(matrix, low, high,row):\n",
    "    pivot = matrix[row][(low + high) // 2]\n",
    "    i = low - 1\n",
    "    j = high + 1\n",
    "    while True:\n",
    "        i += 1\n",
    "        while matrix[row][i] < pivot:\n",
    "            i += 1\n",
    "\n",
    "        j -= 1\n",
    "        while matrix[row][j] > pivot:\n",
    "            j -= 1\n",
    "\n",
    "        if i >= j:\n",
    "            return j\n",
    "\n",
    "        matrix[row][i], matrix[row][j] = matrix[row][j], matrix[row][i]\n",
    "def quick_sort(matrix):\n",
    "    def _quick_sort(items, low, high,row):\n",
    "        if low < high:\n",
    "            split_index = partition(items, low, high,row)\n",
    "            _quick_sort(items, low, split_index,row)\n",
    "            _quick_sort(items, split_index + 1, high,row)\n",
    "\n",
    "    for row in range(len(matrix)):\n",
    "        _quick_sort(matrix, 0, len(matrix[row])-1,row)\n",
    "\n",
    "    return matrix"
   ]
  },
  {
   "cell_type": "markdown",
   "id": "818d1f34",
   "metadata": {},
   "source": [
    "### Начало программы"
   ]
  },
  {
   "cell_type": "code",
   "execution_count": null,
   "id": "a952ddea",
   "metadata": {},
   "outputs": [],
   "source": [
    "Q_ans = input(\"Хотите ли вы указать параметры матрицы Да/Нет? \")\n",
    "matrix = M_create(Q_ans)\n",
    "#print(\"Сгененированная матрица:\")\n",
    "#for i in range (len(matrix)):\n",
    "#    print(matrix[i])\n",
    "            \n",
    "    "
   ]
  },
  {
   "cell_type": "code",
   "execution_count": null,
   "id": "34505812",
   "metadata": {},
   "outputs": [],
   "source": [
    "Selection_sort_matrix = copy.deepcopy(matrix)\n",
    "start_time = time.time()\n",
    "Selection_sort(Selection_sort_matrix)\n",
    "end_time_Selection_sort = time.time()-start_time\n",
    "print(\"Сортировка простым выбором\")\n",
    "\n",
    "#for i in range (len(Selection_sort_matrix)):\n",
    "#    print(Selection_sort_matrix[i])\n",
    "print(\"Время выполнения: \",'%.2f' %end_time_Selection_sort,\"sec\")    "
   ]
  },
  {
   "cell_type": "code",
   "execution_count": null,
   "id": "9d46cded",
   "metadata": {},
   "outputs": [],
   "source": [
    "insertion_sort_matrix = copy.deepcopy(matrix)\n",
    "start_time = time.time()\n",
    "insertion_sort(insertion_sort_matrix)\n",
    "end_time_insertion_sort = time.time()-start_time\n",
    "print(\"Сортировка вставкой\")\n",
    "#for i in range (len(insertion_sort_matrix)):\n",
    "#    print(insertion_sort_matrix[i])\n",
    "print(\"Время выполнения: \",'%.2f' %end_time_insertion_sort,\"sec\") "
   ]
  },
  {
   "cell_type": "code",
   "execution_count": null,
   "id": "38c07873",
   "metadata": {},
   "outputs": [],
   "source": [
    "bubble_sort_matrix = copy.deepcopy(matrix)\n",
    "start_time = time.time()\n",
    "bubble_sort(bubble_sort_matrix)\n",
    "end_time_bubble_sort = time.time()-start_time\n",
    "print(\"Сортировка пузырьком\")\n",
    "#for i in range(len(bubble_sort_matrix)):\n",
    "#    print(bubble_sort_matrix[i])\n",
    "print(\"Время выполнения: \",'%.2f' %end_time_bubble_sort,\"sec\")"
   ]
  },
  {
   "cell_type": "code",
   "execution_count": null,
   "id": "ada34d86",
   "metadata": {},
   "outputs": [],
   "source": [
    "shellSort_matrix = copy.deepcopy(matrix)\n",
    "start_time = time.time()\n",
    "shellSort(shellSort_matrix)\n",
    "end_time_shell_Sort = time.time()-start_time\n",
    "print(\"Шелл сортировка\")\n",
    "#for i in range(len(shellSort_matrix)):\n",
    "#    print(shellSort_matrix[i])\n",
    "print(\"Время выполнения: \",'%.2f' %end_time_shell_Sort,\"sec\")"
   ]
  },
  {
   "cell_type": "code",
   "execution_count": null,
   "id": "5a903d21",
   "metadata": {},
   "outputs": [],
   "source": [
    "Tournament_sort_matrix = copy.deepcopy(matrix)\n",
    "start_time = time.time()\n",
    "TournamentSort(Tournament_sort_matrix)\n",
    "end_time_Tournament_sort = time.time()-start_time\n",
    "print(\"Турнирная сортировка\")\n",
    "#for i in range(len(Tournament_sort_matrix)):\n",
    "#    print(Tournament_sort_matrix[i])\n",
    "print(\"Время выполнения: \",'%.2f' %end_time_Tournament_sort,\"sec\")"
   ]
  },
  {
   "cell_type": "code",
   "execution_count": null,
   "id": "aa79defc",
   "metadata": {},
   "outputs": [],
   "source": [
    "heapSort_matrix = copy.deepcopy(matrix)\n",
    "start_time = time.time()\n",
    "heapSort(heapSort_matrix)\n",
    "end_time_heap_Sort = time.time()-start_time\n",
    "print(\"Пирамидальная сортировка\")\n",
    "#for i in range(len(heapSort_matrix)):\n",
    "#    print(heapSort_matrix[i])\n",
    "print(\"Время выполнения: \",'%.2f' %end_time_heap_Sort,\"sec\")"
   ]
  },
  {
   "cell_type": "code",
   "execution_count": null,
   "id": "9121e930",
   "metadata": {},
   "outputs": [],
   "source": [
    "quick_sort_matrix = copy.deepcopy(matrix)\n",
    "start_time = time.time()\n",
    "quick_sort(quick_sort_matrix)\n",
    "end_time_quick_sort = time.time()-start_time\n",
    "print(\"Быстрая сортировка\")\n",
    "#for i in range(len(quick_sort_matrix)):\n",
    "#    print(quick_sort_matrix[i])\n",
    "print(\"Время выполнения: \",'%.2f' %end_time_quick_sort,\"sec\")"
   ]
  },
  {
   "cell_type": "code",
   "execution_count": null,
   "id": "344a371e",
   "metadata": {},
   "outputs": [],
   "source": [
    "basic_sort = copy.deepcopy(matrix)\n",
    "start_time = time.time()\n",
    "for i in range(len(basic_sort)):\n",
    "    basic_sort[i].sort()\n",
    "end_time_basic_sort = time.time()-start_time\n",
    "print(\"Стандартная сортировка\")\n",
    "#for b in range(len(basic_sort)):\n",
    "#    print(basic_sort[b])\n",
    "print(\"Время выполнения: \",'%.2f' %end_time_basic_sort,\"sec\")"
   ]
  },
  {
   "cell_type": "markdown",
   "id": "28aa78fc",
   "metadata": {},
   "source": [
    "### Вывод результатов"
   ]
  },
  {
   "cell_type": "code",
   "execution_count": null,
   "id": "e94d8f7c",
   "metadata": {},
   "outputs": [],
   "source": [
    "Sort_time = {\"Название сортировки\": [\"Сортировка выбором\",\"Сортировка вставкой\",\"Сортировка пузырьком\",\n",
    "                           \"Сортировка Шелла\",\"Турнирная сортировка\",\"Пирамидальная сортировка\",\n",
    "                           \"Быстрая сортировка\",\"Стандартная сортировка\"],\n",
    "             \"Время выполнения сек\" : [end_time_Selection_sort,end_time_insertion_sort,end_time_bubble_sort,end_time_shell_Sort,\n",
    "                       end_time_Tournament_sort,end_time_heap_Sort,end_time_quick_sort,end_time_basic_sort]}\n",
    "df = pd.DataFrame(Sort_time, index = [\"1\",\"2\",\"3\",\"4\",\"5\",\"6\",\"7\",\"8\"])\n",
    "df"
   ]
  },
  {
   "cell_type": "markdown",
   "id": "d5463073",
   "metadata": {},
   "source": [
    "### Задание №4"
   ]
  },
  {
   "cell_type": "markdown",
   "id": "62399abe",
   "metadata": {},
   "source": [
    "Создать публичный репозиторий на github, и запушить выполненное задание в .ipynb формате."
   ]
  },
  {
   "cell_type": "code",
   "execution_count": null,
   "id": "394e2115",
   "metadata": {},
   "outputs": [],
   "source": []
  },
  {
   "cell_type": "code",
   "execution_count": null,
   "id": "046b68e4",
   "metadata": {},
   "outputs": [],
   "source": []
  }
 ],
 "metadata": {
  "kernelspec": {
   "display_name": "Python 3 (ipykernel)",
   "language": "python",
   "name": "python3"
  },
  "language_info": {
   "codemirror_mode": {
    "name": "ipython",
    "version": 3
   },
   "file_extension": ".py",
   "mimetype": "text/x-python",
   "name": "python",
   "nbconvert_exporter": "python",
   "pygments_lexer": "ipython3",
   "version": "3.10.2"
  }
 },
 "nbformat": 4,
 "nbformat_minor": 5
}
