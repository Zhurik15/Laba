{
 "cells": [
  {
   "cell_type": "markdown",
   "id": "1203b6b6",
   "metadata": {},
   "source": [
    "# Олимпиадные задачи"
   ]
  },
  {
   "cell_type": "markdown",
   "id": "36a5ebc6",
   "metadata": {},
   "source": [
    "## Выполнил студент группы БСТ2003 Журавлёв С.А."
   ]
  },
  {
   "cell_type": "markdown",
   "id": "3cd69c06",
   "metadata": {},
   "source": [
    "### Задача 1. «Треугольник с максимальным периметром»"
   ]
  },
  {
   "cell_type": "markdown",
   "id": "044f316c",
   "metadata": {},
   "source": [
    "Массив A состоит из целых положительных чисел ­ длин отрезков. Составьте из трех отрезков такой треугольник, чтобы его периметр был максимально возможным. Если невозможно\n",
    "составить треугольник с положительной площадью ­ функция возвращает 0"
   ]
  },
  {
   "cell_type": "code",
   "execution_count": null,
   "id": "2f355fda",
   "metadata": {},
   "outputs": [],
   "source": [
    "import random\n",
    "\n",
    "def Zad1():\n",
    "    m = [int(i) for i in input().split()]\n",
    "\n",
    "    m.sort(reverse=True)\n",
    "\n",
    "    max_sum=0\n",
    "\n",
    "    for i in range(len(m)):\n",
    "        for j in range(i+1,len(m)):\n",
    "            for k in range(j+1,len(m)):\n",
    "                m2=sorted([m[i],m[j],m[k]])\n",
    "                if m2[0]+m2[1]>m2[2]:\n",
    "                    max_sum=sum(m2)\n",
    "                    break\n",
    "            if max_sum!=0: break\n",
    "        if max_sum!=0: break\n",
    "\n",
    "    print(max_sum)"
   ]
  },
  {
   "cell_type": "markdown",
   "id": "9f1720ea",
   "metadata": {},
   "source": [
    "### Задача 2. «Максимальное число»"
   ]
  },
  {
   "cell_type": "markdown",
   "id": "7a33a7d7",
   "metadata": {},
   "source": [
    "Дан массив неотрицательных целых чисел nums. Расположите их в таком порядке, чтобы\n",
    "вместе они образовали максимально возможное число.\n",
    "Замечание: Результат может быть очень большим числом, поэтому представьте его как\n",
    "string, а не integer.\n"
   ]
  },
  {
   "cell_type": "code",
   "execution_count": null,
   "id": "acd81c7d",
   "metadata": {},
   "outputs": [],
   "source": [
    "def Zad2():\n",
    "    f = [i for i in input().split()]\n",
    "\n",
    "    max_f=max([len(i) for i in f])\n",
    "\n",
    "    f2=[]\n",
    "\n",
    "    for el in f:\n",
    "        n=max_f//len(el)\n",
    "        s_el=el*n\n",
    "\n",
    "        for i in range(max_f%len(el)):\n",
    "            s_el+=el[i]\n",
    "        f2.append(s_el)\n",
    "\n",
    "    f3=list(zip(f,f2))\n",
    "\n",
    "\n",
    "    f4=sorted(f3,key=lambda x: x[1],reverse=True)\n",
    "\n",
    "    result=\"\"\n",
    "\n",
    "    for i in f4:\n",
    "        result+=i[0]\n",
    "\n",
    "    print(result)\n"
   ]
  },
  {
   "cell_type": "markdown",
   "id": "a189af64",
   "metadata": {},
   "source": [
    "### Задача 3. «Сортировка диагоналей в матрице»"
   ]
  },
  {
   "cell_type": "markdown",
   "id": "9d2417d1",
   "metadata": {},
   "source": [
    "Дана матрица mat размером m * n, значения ­ целочисленные. Напишите функцию, сор\u0002тирующую каждую диагональ матрицы по возрастанию и возвращающую получившуюся мат\u0002рицу"
   ]
  },
  {
   "cell_type": "code",
   "execution_count": null,
   "id": "e4cba372",
   "metadata": {},
   "outputs": [],
   "source": [
    "def Zad3():\n",
    "    s = input().split()\n",
    "    m,n=int(s[0]),int(s[1])\n",
    "    matrix=[]\n",
    "\n",
    "    for i in range(m):\n",
    "        matrix.append([0]*n)\n",
    "        for j in range(n):\n",
    "            matrix[i][j]=random.randint(0,9)\n",
    "            print(matrix[i][j],end=\" \")\n",
    "        print()\n",
    "    i=m-2\n",
    "    j=0\n",
    "\n",
    "                while not (i==0 and j==n-1):\n",
    "                    a,b=i,j\n",
    "                    mas=[]\n",
    "        mas.append(matrix[a][b])\n",
    "\n",
    "                   while a+1<m and b+1<n:\n",
    "                    a+=1\n",
    "                    b+=1\n",
    "                    mas.append(matrix[a][b])\n",
    "                    mas.sort()\n",
    "                    a,b,k=i,j,0\n",
    "                    matrix[a][b]=mas[k]\n",
    "\n",
    "        while a+1<m and b+1<n:\n",
    "            a+=1\n",
    "            b+=1\n",
    "            k+=1\n",
    "            matrix[a][b]=mas[k]\n",
    "\n",
    "        if i!=0: i-=1\n",
    "        else: j+=1\n",
    "\n",
    "    print()\n",
    "\n",
    "    for i in range(m):\n",
    "        for j in range(n):\n",
    "            print(str(matrix[i][j]).ljust(2),end='')\n",
    "        print()\n"
   ]
  },
  {
   "cell_type": "code",
   "execution_count": null,
   "id": "41ba5a58",
   "metadata": {},
   "outputs": [],
   "source": []
  }
 ],
 "metadata": {
  "kernelspec": {
   "display_name": "Python 3 (ipykernel)",
   "language": "python",
   "name": "python3"
  },
  "language_info": {
   "codemirror_mode": {
    "name": "ipython",
    "version": 3
   },
   "file_extension": ".py",
   "mimetype": "text/x-python",
   "name": "python",
   "nbconvert_exporter": "python",
   "pygments_lexer": "ipython3",
   "version": "3.10.4"
  }
 },
 "nbformat": 4,
 "nbformat_minor": 5
}
